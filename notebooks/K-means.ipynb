{
  "cells": [
    {
      "cell_type": "markdown",
      "source": [
        "# K-Means\n",
        "---\n",
        "**Learning Objectives**\n",
        "\n",
        "* In this Jupyter Notebook you will learn to code a K means method using Python.\n",
        "\n",
        "* Main goals:\n",
        "   1. Code a K-means method from scratch\n",
        "   2. Visualize the results\n",
        "\n",
        "* We will work using Google Colab, so you have to log in https://colab.research.google.com.\n",
        "\n",
        "* Based on this [example](https://towardsdatascience.com/create-your-own-k-means-clustering-algorithm-in-python-d7d4c9077670)."
      ],
      "metadata": {
        "id": "RCk1FY-rggf_"
      },
      "id": "RCk1FY-rggf_"
    },
    {
      "cell_type": "markdown",
      "source": [
        "## 1. K-means from scratch\n",
        "\n",
        "**Introduction:**\n",
        "* K-means is one of the simplest and most widely used clustering algorithms in machine learning. It aims to partition a dataset into\n",
        "$k$ clusters by minimizing the distance between data points and their respective cluster centroids.\n",
        "\n",
        "* This algorithm is an unsupervised learning method, meaning it works without labeled data.\n",
        "\n",
        "**How It Works:**\n",
        "1. Initialization: Randomly select $k$ initial cluster centroids.\n",
        "2. Assignment Step: Assign each data point to the cluster with the nearest centroid.\n",
        "3. Update Step: Recalculate the centroids based on the mean of all data points assigned to each cluster.\n",
        "4. Repeat: Iterate the assignment and update steps until the centroids stabilize (or a maximum number of iterations is reached).\n",
        "\n",
        "\n",
        "* We will implement the K-Means algorithm from scratch using Python. This will help us understand the underlying mechanics of the algorithm, including distance calculations, centroid updates, and stopping criteria."
      ],
      "metadata": {
        "id": "OJwViQrjiJ69"
      },
      "id": "OJwViQrjiJ69"
    },
    {
      "cell_type": "markdown",
      "id": "2171ac38-407e-44de-991d-717529a909be",
      "metadata": {
        "id": "2171ac38-407e-44de-991d-717529a909be"
      },
      "source": [
        "## 1.1. Loading Python pacakges"
      ]
    },
    {
      "cell_type": "code",
      "execution_count": null,
      "id": "59ab39f3-70a7-4993-9960-3c339d8c306e",
      "metadata": {
        "id": "59ab39f3-70a7-4993-9960-3c339d8c306e"
      },
      "outputs": [],
      "source": [
        "from sklearn.datasets import make_blobs\n",
        "from sklearn.preprocessing import StandardScaler\n",
        "\n",
        "import random\n",
        "import time\n",
        "import numpy as np\n",
        "import seaborn as sns\n",
        "import matplotlib.pyplot as plt\n"
      ]
    },
    {
      "cell_type": "markdown",
      "id": "59035aaf-736c-4a6e-bfc1-b2758dda46b4",
      "metadata": {
        "id": "59035aaf-736c-4a6e-bfc1-b2758dda46b4"
      },
      "source": [
        "## 1.2. Synthetic data genaration\n",
        "---\n",
        "We create synthetic data using the [make_blobs](https://scikit-learn.org/stable/modules/generated/sklearn.datasets.make_blobs.html) function and we visualiza the datasets using the scatter plots provided by [matplotlib](https://matplotlib.org/stable/api/_as_gen/matplotlib.pyplot.scatter.html)."
      ]
    },
    {
      "cell_type": "code",
      "execution_count": null,
      "id": "9878da8f-5323-4cc5-8f31-6544b9fa993d",
      "metadata": {
        "id": "9878da8f-5323-4cc5-8f31-6544b9fa993d"
      },
      "outputs": [],
      "source": [
        "n_clusters = 5\n",
        "X_data, true_labels = make_blobs(n_samples=500, centers=n_clusters, random_state=42)\n",
        "X_data = StandardScaler().fit_transform(X_data)"
      ]
    },
    {
      "cell_type": "markdown",
      "id": "ff7ae030-7a06-44ec-87d0-bbbe8d93fc33",
      "metadata": {
        "id": "ff7ae030-7a06-44ec-87d0-bbbe8d93fc33"
      },
      "source": [
        "<div class=\"alert alert-block alert-success\">\n",
        "<b>Plot in 2D the dataset X_data</b>\n",
        "\n",
        "Use the library <a href=\"https://seaborn.pydata.org\">seaborn</a>  and the function <a href=\"https://seaborn.pydata.org/generated/seaborn.scatterplot.html#seaborn-scatterplot\">scatterplot</a>.\n",
        "    \n",
        "</div>\n",
        "\n"
      ]
    },
    {
      "cell_type": "code",
      "execution_count": null,
      "id": "d3a42dae-50a6-4f76-b4f4-de098fb83074",
      "metadata": {
        "id": "d3a42dae-50a6-4f76-b4f4-de098fb83074"
      },
      "outputs": [],
      "source": [
        "# Write your code for plotting here:\n",
        "\n"
      ]
    },
    {
      "cell_type": "markdown",
      "id": "4b52ca7b-5d14-4660-9ec8-20563a4f1b28",
      "metadata": {
        "id": "4b52ca7b-5d14-4660-9ec8-20563a4f1b28"
      },
      "source": [
        "## 1.3. Functions\n",
        "---\n",
        "We will create two functions:\n",
        "* euclidean_distance()\n",
        "* k_means()\n",
        "\n",
        "The names indicates clearly the goal of each fucntion.\n",
        "\n",
        "\n",
        "Based on this [example](https://towardsdatascience.com/create-your-own-k-means-clustering-algorithm-in-python-d7d4c9077670)."
      ]
    },
    {
      "cell_type": "markdown",
      "id": "43061ee8-cdfb-4c46-8a03-c7b6d4198f53",
      "metadata": {
        "id": "43061ee8-cdfb-4c46-8a03-c7b6d4198f53"
      },
      "source": [
        "### 1.3.1 euclidean_distance(point, data)\n",
        "This function has two parameters to compute the Euclidean distance between a data point and a set of points."
      ]
    },
    {
      "cell_type": "markdown",
      "id": "6da2869c-ee84-4c84-99e3-ec9a1caa8d3d",
      "metadata": {
        "id": "6da2869c-ee84-4c84-99e3-ec9a1caa8d3d"
      },
      "source": [
        "<div class=\"alert alert-block alert-success\">\n",
        "<b>Write your function euclidean_distance() here</b>\n",
        "\n",
        "    \n",
        "</div>\n"
      ]
    },
    {
      "cell_type": "code",
      "execution_count": null,
      "id": "82ec1985-1ee4-4418-9b75-eb14432fbbeb",
      "metadata": {
        "id": "82ec1985-1ee4-4418-9b75-eb14432fbbeb"
      },
      "outputs": [],
      "source": [
        "def euclidean_distance(point, data):\n",
        "    \"\"\"\n",
        "    Euclidean distance between point & data.\n",
        "    Point has dimensions (m,), data has dimensions (n,m), and output will be of size (n,).\n",
        "    \"\"\"\n"
      ]
    },
    {
      "cell_type": "markdown",
      "id": "6e03aafe-32d6-43a5-96b7-ad972c03b1b1",
      "metadata": {
        "id": "6e03aafe-32d6-43a5-96b7-ad972c03b1b1"
      },
      "source": [
        "### 1.3.2. k_means(X_train, n_cluster,max_iter)\n",
        "* This functions compute the clusters, by assigning to each data point its respective cluster\n",
        "* Notice that we use different functions provided by different Python packages:\n",
        "  * [random.uniforma(a,b)](https://docs.python.org/3/library/random.html) for generating a random number in the range [a,b].\n",
        "\n",
        "* Test the random.uniform() function:"
      ]
    },
    {
      "cell_type": "code",
      "execution_count": null,
      "id": "bfb844f6-3b78-41af-a839-75584a4b55df",
      "metadata": {
        "id": "bfb844f6-3b78-41af-a839-75584a4b55df",
        "outputId": "57a1a79a-d820-408d-fd54-2cb2c5067af9"
      },
      "outputs": [
        {
          "name": "stdin",
          "output_type": "stream",
          "text": [
            "Write the first number 5\n",
            "Write the second number 5\n"
          ]
        },
        {
          "name": "stdout",
          "output_type": "stream",
          "text": [
            "My random number between a= 5.0 and b= 5.0 is  5.0\n"
          ]
        }
      ],
      "source": [
        "import random\n",
        "a = float(input(\"Write the first number\"))\n",
        "b = float(input(\"Write the second number\"))\n",
        "print(\"My random number between a=\", a, \"and b=\", b, \"is \", random.uniform(a,b))"
      ]
    },
    {
      "cell_type": "markdown",
      "id": "b4796a36-f976-4688-94d4-b797f2c6d2a5",
      "metadata": {
        "id": "b4796a36-f976-4688-94d4-b797f2c6d2a5"
      },
      "source": [
        "---\n",
        "We also used the a list comprehension.\n",
        "\n",
        "* It allows us to generate a new list by iterating over a sequence or range, optionally applying conditions or transformations\n",
        "* The sintax is:"
      ]
    },
    {
      "cell_type": "raw",
      "id": "376c91e2-9ebb-4a0b-9dcb-e2b9e1aa8a8c",
      "metadata": {
        "id": "376c91e2-9ebb-4a0b-9dcb-e2b9e1aa8a8c"
      },
      "source": [
        "newlist = [expression for item in iterable if condition == True]"
      ]
    },
    {
      "cell_type": "code",
      "execution_count": null,
      "id": "e860d7d4-5242-4a1d-8d99-7d2bef586d3d",
      "metadata": {
        "id": "e860d7d4-5242-4a1d-8d99-7d2bef586d3d",
        "outputId": "fb29143d-43ce-4ec4-f7d8-8a87b05438b0"
      },
      "outputs": [
        {
          "name": "stdin",
          "output_type": "stream",
          "text": [
            "n 5\n"
          ]
        },
        {
          "name": "stdout",
          "output_type": "stream",
          "text": [
            "[0, 1, 4, 9, 16]\n"
          ]
        }
      ],
      "source": [
        "n = int(input(\"n\"))\n",
        "l = []\n",
        "\n",
        "for i in range(n):\n",
        "    l.append(i**2)\n",
        "print(l)\n",
        "\n"
      ]
    },
    {
      "cell_type": "markdown",
      "id": "43a9a9f8-0d1d-45e3-90ff-86c147807d9b",
      "metadata": {
        "id": "43a9a9f8-0d1d-45e3-90ff-86c147807d9b"
      },
      "source": [
        "Instead of using a traditional loop, let's use a list comprehension:\n",
        "\n",
        "(remember: newlist = [expression for item in iterable if condition == True])"
      ]
    },
    {
      "cell_type": "markdown",
      "id": "2df117e0-3c5d-488e-9c40-78f45bc45403",
      "metadata": {
        "id": "2df117e0-3c5d-488e-9c40-78f45bc45403"
      },
      "source": [
        "<div class=\"alert alert-block alert-success\">\n",
        "\n",
        "<b>Example: Generating Squares</b>\n",
        "\n",
        "Create a list of squares of numbers from 1 to $n$.\n",
        "This is the traditional loop:\n",
        "    \n",
        "</div>"
      ]
    },
    {
      "cell_type": "code",
      "execution_count": null,
      "id": "5629239e-6e3e-4aca-b02c-df34cb436d0c",
      "metadata": {
        "id": "5629239e-6e3e-4aca-b02c-df34cb436d0c"
      },
      "outputs": [],
      "source": [
        "# Write your code for using list comprehension here:\n"
      ]
    },
    {
      "cell_type": "code",
      "execution_count": null,
      "id": "29499419-52a8-4905-8ee0-1abbd4bbb954",
      "metadata": {
        "id": "29499419-52a8-4905-8ee0-1abbd4bbb954"
      },
      "outputs": [],
      "source": [
        "def k_means(X_train,n_clusters, max_iter):\n",
        "    # We start selecting randomly the centroids, uniformly distributed across the domain of the dataset\n",
        "    min_, max_ = np.min(X_train, axis=0), np.max(X_train, axis=0)\n",
        "\n",
        "    random.seed(0)\n",
        "    centroids = [random.uniform(min_, max_) for _ in range(n_clusters)]\n",
        "    # random.uniform(min_, max_): generate a float random number between min_ and max_\n",
        "    #for _ in range(n_clusters): it iterates n_clusters times to create a list with n_clusters random values.\n",
        "    # The variable _ is just to indicate that it is not used directly inside the loop.\n",
        "\n",
        "    # Loop for adjusting centroids until converged or until passed max_iter\n",
        "    iteration = 0\n",
        "    prev_centroids = None\n",
        "\n",
        "    # Main loop of the K means algorithm\n",
        "    while np.not_equal(centroids, prev_centroids).any() and iteration < max_iter: # and the iteration is less than ...\n",
        "\n",
        "        # We sort each datapoint and we assign it to nearest centroid\n",
        "        sorted_points = [[] for _ in range(n_clusters)] # list of emmpty lists\n",
        "        for x in X_train:\n",
        "            dists = euclidean_distance(x, centroids) # compute the Euclidean distance between each data point and the centroids\n",
        "            centroid_idx = np.argmin(dists) # take the index of the  minumum distance\n",
        "            sorted_points[centroid_idx].append(x) # add the data point the closest cluster\n",
        "\n",
        "        # Update the centroids values, reassign centroids as mean of the points belonging to them\n",
        "        prev_centroids = centroids\n",
        "\n",
        "        centroids = [np.mean(cluster, axis=0) for cluster in sorted_points] # fore each cluster, we compute the mean, to\n",
        "                                                                            # obtain the new centroid\n",
        "\n",
        "        for i, centroid in enumerate(centroids):\n",
        "            if np.isnan(centroid).any():  # Catch any np.nans, resulting from a centroid having no points\n",
        "                centroids[i] = prev_centroids[i]\n",
        "        iteration += 1\n",
        "\n",
        "    return centroids, dists,\n",
        "\n",
        "cents, dists = k_means(X_data,5,300)"
      ]
    },
    {
      "cell_type": "markdown",
      "id": "bae096c2-325f-4321-8304-bb6827ee851e",
      "metadata": {
        "id": "bae096c2-325f-4321-8304-bb6827ee851e"
      },
      "source": [
        "## 1.4 Assigning the cluster to each data point"
      ]
    },
    {
      "cell_type": "code",
      "execution_count": null,
      "id": "60d0491e-9fc6-40f1-a8bd-744c3cd0875f",
      "metadata": {
        "id": "60d0491e-9fc6-40f1-a8bd-744c3cd0875f"
      },
      "outputs": [],
      "source": [
        "centroids = []\n",
        "centroid_idxs = []\n",
        "for x in X_data:\n",
        "    dists = euclidean_distance(x, cents)\n",
        "    centroid_idx = np.argmin(dists)\n",
        "    centroids.append(cents[centroid_idx])\n",
        "    centroid_idxs.append(centroid_idx)"
      ]
    },
    {
      "cell_type": "markdown",
      "id": "54416c99-acc8-42bc-ba14-8f79a0250570",
      "metadata": {
        "id": "54416c99-acc8-42bc-ba14-8f79a0250570"
      },
      "source": [
        "## 1.5 Visualization"
      ]
    },
    {
      "cell_type": "markdown",
      "id": "905885d8-aeb6-4b59-9fcd-fcdf321bc12f",
      "metadata": {
        "id": "905885d8-aeb6-4b59-9fcd-fcdf321bc12f"
      },
      "source": [
        "* Notice that the centroid_idxs is a list containing the cluster predicted for each data point, and\n",
        "* cents is a list containing the computed centroids"
      ]
    },
    {
      "cell_type": "markdown",
      "id": "0e4e2030-39d5-4744-b303-9dc748ce48f8",
      "metadata": {
        "id": "0e4e2030-39d5-4744-b303-9dc748ce48f8"
      },
      "source": [
        "<div class=\"alert alert-block alert-success\">\n",
        "<b>Plot in 2D the data point of X_data in its respective cluster, and hihglight the cluster centroids</b>\n",
        "\n",
        "    \n",
        "</div>\n"
      ]
    },
    {
      "cell_type": "code",
      "execution_count": null,
      "id": "bc1a948b-24ae-4375-ac43-33d9faf3676b",
      "metadata": {
        "id": "bc1a948b-24ae-4375-ac43-33d9faf3676b",
        "outputId": "b8636dbd-8861-4bab-fc5f-fe7570f7ac22"
      },
      "outputs": [
        {
          "data": {
            "text/plain": [
              "<Figure size 640x480 with 0 Axes>"
            ]
          },
          "metadata": {},
          "output_type": "display_data"
        }
      ],
      "source": [
        "# Code for plotting, here:\n",
        "plt.figure()\n",
        "\n",
        "plt.show()"
      ]
    },
    {
      "cell_type": "markdown",
      "id": "97c99e85-f125-46ec-815d-027fa9b08cac",
      "metadata": {
        "id": "97c99e85-f125-46ec-815d-027fa9b08cac"
      },
      "source": [
        "## 2. K-means using Python packages\n",
        "***\n"
      ]
    },
    {
      "cell_type": "code",
      "execution_count": null,
      "id": "00d406d0-1fa3-4864-a724-76659d8b8c9d",
      "metadata": {
        "id": "00d406d0-1fa3-4864-a724-76659d8b8c9d"
      },
      "outputs": [],
      "source": [
        "from sklearn.cluster import KMeans\n",
        "import matplotlib.pyplot as plt"
      ]
    },
    {
      "cell_type": "markdown",
      "id": "583863c9-9db3-46a2-a8f2-a378b96ebf40",
      "metadata": {
        "id": "583863c9-9db3-46a2-a8f2-a378b96ebf40"
      },
      "source": [
        "## 2.1 Variables defintion"
      ]
    },
    {
      "cell_type": "markdown",
      "id": "289e3f0b-3e26-4ee2-abea-18d16194f8d6",
      "metadata": {
        "id": "289e3f0b-3e26-4ee2-abea-18d16194f8d6"
      },
      "source": [
        "* Remember, we need to specify the number of clusters (we will use the same number as before)."
      ]
    },
    {
      "cell_type": "code",
      "execution_count": null,
      "id": "e22bbf0c-fa76-4ea9-9096-0a4b38e2f937",
      "metadata": {
        "id": "e22bbf0c-fa76-4ea9-9096-0a4b38e2f937",
        "outputId": "eb81afc8-9d31-45bc-b593-730ba2e885e9"
      },
      "outputs": [
        {
          "name": "stdout",
          "output_type": "stream",
          "text": [
            "Number of clusters: 5\n"
          ]
        }
      ],
      "source": [
        "print(\"Number of clusters:\", n_clusters)"
      ]
    },
    {
      "cell_type": "markdown",
      "id": "c8d374ea-049b-4dd6-a0ce-cb224cdd7cbe",
      "metadata": {
        "id": "c8d374ea-049b-4dd6-a0ce-cb224cdd7cbe"
      },
      "source": [
        "We compute the minimun and maximum values to obtain randon numbers for the centers (or centroids) initilazation"
      ]
    },
    {
      "cell_type": "code",
      "execution_count": null,
      "id": "6c620485-2c78-488f-8504-f99003ad2675",
      "metadata": {
        "id": "6c620485-2c78-488f-8504-f99003ad2675"
      },
      "outputs": [],
      "source": [
        "min_, max_ = np.min(X_data, axis=0), np.max(X_data, axis=0)\n",
        "centers = [random.uniform(min_, max_) for _ in range(n_clusters)] # Again a comprehension list!"
      ]
    },
    {
      "cell_type": "markdown",
      "id": "fc8a5477-1ece-4e09-aa34-02a1a2c41ecb",
      "metadata": {
        "id": "fc8a5477-1ece-4e09-aa34-02a1a2c41ecb"
      },
      "source": [
        "## 2.2 KMeans() function\n",
        "\n",
        "* While implementing K-Means from scratch provides valuable insights into how the algorithm works, using established libraries simplifies the process and ensures efficient execution.\n",
        "* Python offers powerful packages like scikit-learn that provide optimized implementations of the K-Means algorithm.\n",
        "* Advantages of Using Libraries:\n",
        "  1. **Efficiency**: Pre-built functions are optimized for speed and handle large datasets efficiently.\n",
        "  2. **Convenience**: Automates common tasks like initialization, iteration, and convergence checks.\n",
        "  3. **Additional Features**: Libraries often provide extended functionalities, such as initialization methods (e.g., k-means++), performance metrics, and visualization tools.\n"
      ]
    },
    {
      "cell_type": "code",
      "execution_count": null,
      "id": "394d3177-8845-44e5-bdd5-ff1c1940cfff",
      "metadata": {
        "id": "394d3177-8845-44e5-bdd5-ff1c1940cfff"
      },
      "outputs": [],
      "source": [
        "k_means = KMeans(init=\"random\", n_clusters=5, n_init=10)\n",
        "t0 = time.time()\n",
        "k_means.fit(X_data)\n",
        "t1 = time.time() - t0"
      ]
    },
    {
      "cell_type": "markdown",
      "id": "fdd1f5f9-c225-4d24-9446-5c3c94153609",
      "metadata": {
        "id": "fdd1f5f9-c225-4d24-9446-5c3c94153609"
      },
      "source": [
        "## 2.3 Assigning the cluster label to each data point"
      ]
    },
    {
      "cell_type": "code",
      "execution_count": null,
      "id": "abe40923-d2e5-4e2d-ae0d-a2e81ef45904",
      "metadata": {
        "id": "abe40923-d2e5-4e2d-ae0d-a2e81ef45904"
      },
      "outputs": [],
      "source": [
        "from sklearn.metrics.pairwise import pairwise_distances_argmin\n",
        "\n",
        "k_means_cluster_centers = k_means.cluster_centers_\n",
        "\n",
        "\n",
        "k_means_labels = pairwise_distances_argmin(X_data, k_means_cluster_centers)"
      ]
    },
    {
      "cell_type": "code",
      "execution_count": null,
      "id": "470bc54f-5ef1-4cd8-96bb-1f69fa511e5c",
      "metadata": {
        "id": "470bc54f-5ef1-4cd8-96bb-1f69fa511e5c"
      },
      "outputs": [],
      "source": []
    },
    {
      "cell_type": "markdown",
      "id": "4746527c-ea45-472e-ac37-683e2e9d1fa3",
      "metadata": {
        "id": "4746527c-ea45-472e-ac37-683e2e9d1fa3"
      },
      "source": [
        "## 3.3 Visualization"
      ]
    },
    {
      "cell_type": "markdown",
      "id": "c3c8bb41-a574-4875-bb06-8f62ef699ad4",
      "metadata": {
        "id": "c3c8bb41-a574-4875-bb06-8f62ef699ad4"
      },
      "source": [
        "<div class=\"alert alert-block alert-success\">\n",
        "<b>Plot the data points in X_data according to their respective clusters, and highlight the cluster centroids</b>\n",
        "</div>\n"
      ]
    },
    {
      "cell_type": "code",
      "execution_count": null,
      "id": "fd44d202-f502-445b-9a83-e4dd1202db5b",
      "metadata": {
        "id": "fd44d202-f502-445b-9a83-e4dd1202db5b",
        "outputId": "bda13261-169e-4b1a-92e9-ebf46b1a6ef0"
      },
      "outputs": [
        {
          "data": {
            "image/png": "[encoded data removed]",
            "text/plain": [
              "<Figure size 640x480 with 1 Axes>"
            ]
          },
          "metadata": {},
          "output_type": "display_data"
        }
      ],
      "source": [
        "\n"
      ]
    },
    {
      "cell_type": "markdown",
      "id": "ad5a6054-e185-4655-b855-ffd218813b74",
      "metadata": {
        "id": "ad5a6054-e185-4655-b855-ffd218813b74"
      },
      "source": []
    },
    {
      "cell_type": "code",
      "execution_count": null,
      "id": "86b57b6d-4df1-4d02-8c85-e2e660d33b80",
      "metadata": {
        "id": "86b57b6d-4df1-4d02-8c85-e2e660d33b80"
      },
      "outputs": [],
      "source": []
    }
  ],
  "metadata": {
    "kernelspec": {
      "display_name": "Python 3 (ipykernel)",
      "language": "python",
      "name": "python3"
    },
    "language_info": {
      "codemirror_mode": {
        "name": "ipython",
        "version": 3
      },
      "file_extension": ".py",
      "mimetype": "text/x-python",
      "name": "python",
      "nbconvert_exporter": "python",
      "pygments_lexer": "ipython3",
      "version": "3.8.19"
    },
    "colab": {
      "provenance": []
    }
  },
  "nbformat": 4,
  "nbformat_minor": 5
}