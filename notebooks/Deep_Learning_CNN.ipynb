{
 "cells": [
  {
   "cell_type": "markdown",
   "id": "877501eb-6cdd-419f-b6f9-74e792da69df",
   "metadata": {},
   "source": [
    "# Convolutional Neural Networks\n",
    "---\n",
    "In this notebook, we will explore how to use a **Convolutional Neural Network (CNN)** to classify images from the **CIFAR-10 dataset**.\n",
    "\n",
    "The CIFAR-10 dataset consists of **60,000 32x32 color images**, divided into **10 classes** such as airplanes, cars, birds, cats, and more. CNNs are particularly effective for this task as they are designed to process grid-like data, such as images, and can efficiently capture spatial hierarchies in the data.\n",
    "\n",
    "We will:\n",
    "1. Build a CNN architecture tailored for CIFAR-10.\n",
    "2. Train the network to classify images into their respective categories.\n",
    "3. Evaluate the model’s performance to assess its accuracy.\n",
    "4. Use a tuner for hyperparameter optimization\n",
    "\n"
   ]
  },
  {
   "cell_type": "markdown",
   "id": "cbc5a83c-a672-459f-b872-a26d68d56ce4",
   "metadata": {},
   "source": [
    "## Python packages"
   ]
  },
  {
   "cell_type": "code",
   "execution_count": 35,
   "id": "6298ad52-425d-4412-95f9-2af5791d49b1",
   "metadata": {},
   "outputs": [],
   "source": [
    "import tensorflow as tf\n",
    "from matplotlib import pyplot as plt\n",
    "import numpy as np"
   ]
  },
  {
   "cell_type": "markdown",
   "id": "95676903-42b0-4e0c-b0bb-ed1b0594a3c6",
   "metadata": {},
   "source": [
    "## Getting dataset"
   ]
  },
  {
   "cell_type": "code",
   "execution_count": 36,
   "id": "459461dc-d040-4548-81fc-f1fe4b4aecce",
   "metadata": {},
   "outputs": [],
   "source": [
    "(X_train, y_train), (X_test, y_test) = tf.keras.datasets.cifar10.load_data()"
   ]
  },
  {
   "cell_type": "code",
   "execution_count": 37,
   "id": "741c9f4c-0a79-4a65-a57d-442fed6f7626",
   "metadata": {},
   "outputs": [],
   "source": [
    "(X_train, y_train), (X_test, y_test) = tf.keras.datasets.fashion_mnist.load_data()"
   ]
  },
  {
   "cell_type": "code",
   "execution_count": 38,
   "id": "44d325fa-f859-444d-acc4-28b9cee92af9",
   "metadata": {},
   "outputs": [
    {
     "data": {
      "image/png": "[encoded data removed]",
      "text/plain": [
       "<Figure size 100x100 with 1 Axes>"
      ]
     },
     "metadata": {},
     "output_type": "display_data"
    }
   ],
   "source": [
    "plt.figure(figsize=(1,1))\n",
    "plt.imshow(X_train[100])\n",
    "plt.show()"
   ]
  },
  {
   "cell_type": "markdown",
   "id": "82c8b92e-3a51-416b-a6fd-9e8e4e3f2575",
   "metadata": {},
   "source": [
    "## Data preprocessing"
   ]
  },
  {
   "cell_type": "code",
   "execution_count": 39,
   "id": "b08ed0a9-961a-493c-8fd9-3ff2c8e98d22",
   "metadata": {},
   "outputs": [],
   "source": [
    "num_classes = 10\n",
    "# convert class vectors to binary class matrices\n",
    "y_train = tf.keras.utils.to_categorical(y_train, num_classes)\n",
    "y_test = tf.keras.utils.to_categorical(y_test, num_classes)"
   ]
  },
  {
   "cell_type": "code",
   "execution_count": 40,
   "id": "a36db7d2-3f28-4990-8b6b-624b777f648a",
   "metadata": {},
   "outputs": [
    {
     "data": {
      "text/plain": [
       "(60000, 28, 28)"
      ]
     },
     "execution_count": 40,
     "metadata": {},
     "output_type": "execute_result"
    }
   ],
   "source": [
    "X_train.shape"
   ]
  },
  {
   "cell_type": "code",
   "execution_count": 41,
   "id": "26f21f81-8fe4-4358-8922-e32e58b28471",
   "metadata": {},
   "outputs": [
    {
     "data": {
      "text/plain": [
       "(60000, 10)"
      ]
     },
     "execution_count": 41,
     "metadata": {},
     "output_type": "execute_result"
    }
   ],
   "source": [
    "y_train.shape"
   ]
  },
  {
   "cell_type": "code",
   "execution_count": 42,
   "id": "5e4d881e-c895-499a-ac00-9bcbf4dd0017",
   "metadata": {},
   "outputs": [],
   "source": [
    "X_train = np.expand_dims(X_train, -1)\n",
    "X_test = np.expand_dims(X_test, -1)\n",
    "\n",
    "input_shape = X_train.shape[1:]\n",
    "X_train = X_train/255\n",
    "X_test = X_test/255\n"
   ]
  },
  {
   "cell_type": "code",
   "execution_count": 43,
   "id": "b7557e09-8258-4eac-8e14-98313444df20",
   "metadata": {},
   "outputs": [
    {
     "data": {
      "text/plain": [
       "(60000, 28, 28, 1)"
      ]
     },
     "execution_count": 43,
     "metadata": {},
     "output_type": "execute_result"
    }
   ],
   "source": [
    "X_train.shape"
   ]
  },
  {
   "cell_type": "markdown",
   "id": "c7dae935-50a9-4548-bacd-66e811fd2681",
   "metadata": {},
   "source": [
    "## Building the CNN"
   ]
  },
  {
   "cell_type": "code",
   "execution_count": 44,
   "id": "4acdea21-dc8b-4649-b75b-1d2bf82a2e06",
   "metadata": {},
   "outputs": [],
   "source": [
    "model = tf.keras.Sequential(\n",
    "    [\n",
    "        tf.keras.Input(shape=input_shape),\n",
    "        tf.keras.layers.Conv2D(32, kernel_size=(3, 3), activation=\"relu\", \n",
    "                      kernel_initializer=tf.keras.initializers.random_normal),\n",
    "        tf.keras.layers.MaxPooling2D(pool_size=(2, 2), strides=2),\n",
    "        \n",
    "        tf.keras.layers.Conv2D(64, kernel_size=(3, 3), activation=\"relu\"),\n",
    "        tf.keras.layers.MaxPooling2D(pool_size=(2, 2)),\n",
    "        \n",
    "        tf.keras.layers.Flatten(),\n",
    "        tf.keras.layers.Dense(num_classes, activation=\"softmax\"),\n",
    "    ]\n",
    ")\n"
   ]
  },
  {
   "cell_type": "code",
   "execution_count": 45,
   "id": "d8e71357-5fdd-44df-b0c1-fe2d774e4bba",
   "metadata": {},
   "outputs": [
    {
     "name": "stdout",
     "output_type": "stream",
     "text": [
      "Model: \"sequential_2\"\n",
      "_________________________________________________________________\n",
      " Layer (type)                Output Shape              Param #   \n",
      "=================================================================\n",
      " conv2d_4 (Conv2D)           (None, 26, 26, 32)        320       \n",
      "                                                                 \n",
      " max_pooling2d_4 (MaxPoolin  (None, 13, 13, 32)        0         \n",
      " g2D)                                                            \n",
      "                                                                 \n",
      " conv2d_5 (Conv2D)           (None, 11, 11, 64)        18496     \n",
      "                                                                 \n",
      " max_pooling2d_5 (MaxPoolin  (None, 5, 5, 64)          0         \n",
      " g2D)                                                            \n",
      "                                                                 \n",
      " flatten_2 (Flatten)         (None, 1600)              0         \n",
      "                                                                 \n",
      " dense_2 (Dense)             (None, 10)                16010     \n",
      "                                                                 \n",
      "=================================================================\n",
      "Total params: 34826 (136.04 KB)\n",
      "Trainable params: 34826 (136.04 KB)\n",
      "Non-trainable params: 0 (0.00 Byte)\n",
      "_________________________________________________________________\n"
     ]
    }
   ],
   "source": [
    "model.summary()"
   ]
  },
  {
   "cell_type": "code",
   "execution_count": 46,
   "id": "e96677b4-3888-4bc1-8333-4112afcf9424",
   "metadata": {
    "scrolled": true
   },
   "outputs": [
    {
     "name": "stderr",
     "output_type": "stream",
     "text": [
      "WARNING:absl:At this time, the v2.11+ optimizer `tf.keras.optimizers.SGD` runs slowly on M1/M2 Macs, please use the legacy Keras optimizer instead, located at `tf.keras.optimizers.legacy.SGD`.\n",
      "WARNING:absl:There is a known slowdown when using v2.11+ Keras optimizers on M1/M2 Macs. Falling back to the legacy Keras optimizer, i.e., `tf.keras.optimizers.legacy.SGD`.\n"
     ]
    },
    {
     "name": "stdout",
     "output_type": "stream",
     "text": [
      "Epoch 1/25\n",
      "422/422 [==============================] - 5s 13ms/step - loss: 1.5609 - accuracy: 0.5096 - val_loss: 0.8835 - val_accuracy: 0.6970\n",
      "Epoch 2/25\n",
      "422/422 [==============================] - 5s 13ms/step - loss: 0.8228 - accuracy: 0.7036 - val_loss: 0.9029 - val_accuracy: 0.7158\n",
      "Epoch 3/25\n",
      "422/422 [==============================] - 5s 13ms/step - loss: 0.7082 - accuracy: 0.7399 - val_loss: 0.6527 - val_accuracy: 0.7570\n",
      "Epoch 4/25\n",
      "422/422 [==============================] - 5s 13ms/step - loss: 0.6440 - accuracy: 0.7621 - val_loss: 0.5868 - val_accuracy: 0.7870\n",
      "Epoch 5/25\n",
      "422/422 [==============================] - 5s 12ms/step - loss: 0.5941 - accuracy: 0.7805 - val_loss: 0.5809 - val_accuracy: 0.7717\n",
      "Epoch 6/25\n",
      "422/422 [==============================] - 5s 13ms/step - loss: 0.5539 - accuracy: 0.7964 - val_loss: 0.5327 - val_accuracy: 0.8030\n",
      "Epoch 7/25\n",
      "422/422 [==============================] - 5s 13ms/step - loss: 0.5265 - accuracy: 0.8086 - val_loss: 0.5127 - val_accuracy: 0.8073\n",
      "Epoch 8/25\n",
      "422/422 [==============================] - 5s 13ms/step - loss: 0.5029 - accuracy: 0.8193 - val_loss: 0.4838 - val_accuracy: 0.8242\n",
      "Epoch 9/25\n",
      "422/422 [==============================] - 5s 12ms/step - loss: 0.4844 - accuracy: 0.8262 - val_loss: 0.5958 - val_accuracy: 0.7593\n",
      "Epoch 10/25\n",
      "422/422 [==============================] - 5s 12ms/step - loss: 0.4718 - accuracy: 0.8310 - val_loss: 0.4783 - val_accuracy: 0.8168\n",
      "Epoch 11/25\n",
      "422/422 [==============================] - 5s 12ms/step - loss: 0.4606 - accuracy: 0.8364 - val_loss: 0.4499 - val_accuracy: 0.8363\n",
      "Epoch 12/25\n",
      "422/422 [==============================] - 5s 12ms/step - loss: 0.4487 - accuracy: 0.8404 - val_loss: 0.4515 - val_accuracy: 0.8353\n",
      "Epoch 13/25\n",
      "422/422 [==============================] - 5s 13ms/step - loss: 0.4390 - accuracy: 0.8440 - val_loss: 0.4328 - val_accuracy: 0.8433\n",
      "Epoch 14/25\n",
      "422/422 [==============================] - 5s 13ms/step - loss: 0.4296 - accuracy: 0.8482 - val_loss: 0.4268 - val_accuracy: 0.8470\n",
      "Epoch 15/25\n",
      "422/422 [==============================] - 5s 13ms/step - loss: 0.4229 - accuracy: 0.8496 - val_loss: 0.4223 - val_accuracy: 0.8487\n",
      "Epoch 16/25\n",
      "422/422 [==============================] - 5s 13ms/step - loss: 0.4158 - accuracy: 0.8524 - val_loss: 0.4130 - val_accuracy: 0.8477\n",
      "Epoch 17/25\n",
      "422/422 [==============================] - 5s 13ms/step - loss: 0.4087 - accuracy: 0.8553 - val_loss: 0.4180 - val_accuracy: 0.8507\n",
      "Epoch 18/25\n",
      "422/422 [==============================] - 5s 13ms/step - loss: 0.4048 - accuracy: 0.8574 - val_loss: 0.4016 - val_accuracy: 0.8563\n",
      "Epoch 19/25\n",
      "422/422 [==============================] - 5s 12ms/step - loss: 0.3990 - accuracy: 0.8584 - val_loss: 0.4162 - val_accuracy: 0.8493\n",
      "Epoch 20/25\n",
      "422/422 [==============================] - 5s 13ms/step - loss: 0.3931 - accuracy: 0.8602 - val_loss: 0.4010 - val_accuracy: 0.8545\n",
      "Epoch 21/25\n",
      "422/422 [==============================] - 5s 12ms/step - loss: 0.3909 - accuracy: 0.8607 - val_loss: 0.3919 - val_accuracy: 0.8568\n",
      "Epoch 22/25\n",
      "422/422 [==============================] - 5s 13ms/step - loss: 0.3849 - accuracy: 0.8634 - val_loss: 0.3929 - val_accuracy: 0.8593\n",
      "Epoch 23/25\n",
      "422/422 [==============================] - 5s 13ms/step - loss: 0.3807 - accuracy: 0.8645 - val_loss: 0.3939 - val_accuracy: 0.8595\n",
      "Epoch 24/25\n",
      "422/422 [==============================] - 5s 13ms/step - loss: 0.3774 - accuracy: 0.8661 - val_loss: 0.3820 - val_accuracy: 0.8623\n",
      "Epoch 25/25\n",
      "422/422 [==============================] - 5s 12ms/step - loss: 0.3740 - accuracy: 0.8677 - val_loss: 0.3796 - val_accuracy: 0.8637\n"
     ]
    },
    {
     "data": {
      "text/plain": [
       "<keras.src.callbacks.History at 0x2b8145190>"
      ]
     },
     "execution_count": 46,
     "metadata": {},
     "output_type": "execute_result"
    }
   ],
   "source": [
    "batch_size = 128\n",
    "epochs = 25\n",
    "\n",
    "model.compile(loss=\"categorical_crossentropy\", optimizer=tf.keras.optimizers.SGD(), metrics=[\"accuracy\"])\n",
    "\n",
    "model.fit(X_train, y_train, batch_size=batch_size, epochs=epochs, validation_split=0.1)"
   ]
  },
  {
   "cell_type": "markdown",
   "id": "bccd02b4-8a06-456d-93e9-c2934380bd47",
   "metadata": {},
   "source": [
    "## Evaluating the CNN's performance"
   ]
  },
  {
   "cell_type": "code",
   "execution_count": 47,
   "id": "a80191e2-9193-4cd8-895e-23c20f733870",
   "metadata": {},
   "outputs": [
    {
     "name": "stdout",
     "output_type": "stream",
     "text": [
      "Test loss: 0.4021560847759247\n",
      "Test accuracy: 0.8562999963760376\n"
     ]
    }
   ],
   "source": [
    "score = model.evaluate(X_test, y_test, verbose=0)\n",
    "print(\"Test loss:\", score[0])\n",
    "print(\"Test accuracy:\", score[1])"
   ]
  },
  {
   "cell_type": "code",
   "execution_count": 48,
   "id": "d233c29d-f463-4a7d-b762-5dd7c8352400",
   "metadata": {},
   "outputs": [
    {
     "name": "stdout",
     "output_type": "stream",
     "text": [
      "313/313 [==============================] - 0s 1ms/step\n",
      "La predicción para cada imagen es un vector con 10 componentes\n",
      "[9.4049528e-06 9.7032839e-08 1.1434081e-05 9.0494605e-06 8.5721722e-06\n",
      " 6.7032821e-02 2.4915167e-05 1.0834816e-01 7.4503282e-03 8.1710523e-01]\n"
     ]
    }
   ],
   "source": [
    "prediction = model.predict(X_test)\n",
    "print(\"La predicción para cada imagen es un vector con 10 componentes\")\n",
    "print(prediction[0])"
   ]
  },
  {
   "cell_type": "code",
   "execution_count": 49,
   "id": "b880ba4e-028d-4940-8af5-947a5854845c",
   "metadata": {},
   "outputs": [],
   "source": [
    "labels = {0: \"T-shirt/top\", 1: \"trouser\", 2: \"Pullover\", 3: \"Dress\", 4: \"Coat\", 5: \"Sandal\", 6: \"Shirt\",\n",
    "         7: \"Sneaker\", 8:\"Bag\", 9: \"Ankle boot\"}"
   ]
  },
  {
   "cell_type": "code",
   "execution_count": 50,
   "id": "7dfbb753-946a-432d-9572-d5980024e2c0",
   "metadata": {},
   "outputs": [
    {
     "name": "stdout",
     "output_type": "stream",
     "text": [
      "              precision    recall  f1-score   support\n",
      "\n",
      " T-shirt/top       0.79      0.84      0.81      1000\n",
      "     trouser       0.97      0.97      0.97      1000\n",
      "    Pullover       0.76      0.80      0.78      1000\n",
      "       Dress       0.90      0.84      0.87      1000\n",
      "        Coat       0.72      0.82      0.77      1000\n",
      "      Sandal       0.92      0.97      0.95      1000\n",
      "       Shirt       0.67      0.52      0.59      1000\n",
      "     Sneaker       0.95      0.89      0.92      1000\n",
      "         Bag       0.95      0.95      0.95      1000\n",
      "  Ankle boot       0.93      0.95      0.94      1000\n",
      "\n",
      "    accuracy                           0.86     10000\n",
      "   macro avg       0.86      0.86      0.85     10000\n",
      "weighted avg       0.86      0.86      0.85     10000\n",
      "\n"
     ]
    }
   ],
   "source": [
    "from sklearn.metrics import classification_report\n",
    "d = classification_report(y_test.argmax(axis=1), prediction.argmax(axis=1),  target_names=labels.values())\n",
    "\n",
    "print(d)"
   ]
  },
  {
   "cell_type": "code",
   "execution_count": 51,
   "id": "7c3049e3-06c7-4b72-ac07-a0da04fdb46e",
   "metadata": {},
   "outputs": [
    {
     "name": "stdout",
     "output_type": "stream",
     "text": [
      "image  1 predicts  Ankle boot\n",
      "image  2 predicts  Pullover\n",
      "image  3 predicts  trouser\n",
      "image  4 predicts  trouser\n",
      "image  5 predicts  Shirt\n",
      "image  6 predicts  trouser\n"
     ]
    },
    {
     "data": {
      "image/png": "[encoded data removed]",
      "text/plain": [
       "<Figure size 640x480 with 6 Axes>"
      ]
     },
     "metadata": {},
     "output_type": "display_data"
    }
   ],
   "source": [
    "for i in range(1, 7):\n",
    "    index_max = np.argmax(prediction[i-1,:])\n",
    "    print(\"image \", i, \"predicts \", labels[index_max])\n",
    "    plt.subplot(2, 3, i)\n",
    "    plt.imshow(X_test[i-1,:,:,0], cmap=\"gray\")"
   ]
  },
  {
   "cell_type": "markdown",
   "id": "b5f58c6c-4ad3-4cac-81b4-1e53b9160651",
   "metadata": {},
   "source": [
    "## Using keras_turner for hyperparameter optimization"
   ]
  },
  {
   "cell_type": "code",
   "execution_count": 52,
   "id": "22ca7a88-341f-4d85-b68a-f474f4368513",
   "metadata": {},
   "outputs": [],
   "source": [
    "from keras_tuner.tuners import RandomSearch"
   ]
  },
  {
   "cell_type": "code",
   "execution_count": 53,
   "id": "640bc180-0ac4-4116-81f9-336a014288fb",
   "metadata": {},
   "outputs": [],
   "source": [
    "def build_model(hp):\n",
    "    model = tf.keras.Sequential()\n",
    "    model.add(tf.keras.layers.Conv2D(hp.Int('input_units',\n",
    "                                           min_value=64,\n",
    "                                           max_value=216,\n",
    "                                           step=32),\n",
    "                                    (3,3), \n",
    "                                     input_shape=input_shape))\n",
    "    \n",
    "    \n",
    "    model.add(tf.keras.layers.Activation('relu'))\n",
    "    model.add(tf.keras.layers.MaxPooling2D(pool_size= (2, 2)))\n",
    "    model.add(tf.keras.layers.Flatten())\n",
    "    hp_dense= hp.Int('1l', min_value = 128, max_value = 512, step = 32)\n",
    "    model.add(tf.keras.layers.Dense(units = hp_dense, activation='relu'))\n",
    "    hp_dense2 = hp.Int ('12', min_value = 128, max_value = 512, step = 32)\n",
    "    model.add(tf.keras.layers.Dense(units = hp_dense, activation='relu'))\n",
    "    \n",
    "    hp_lr = hp.Choice('learning_rate', values= [0.001, 0.0001])\n",
    "    \n",
    "    model.add(tf.keras.layers.Dense(10, activation='softmax'))\n",
    "    \n",
    "    model.compile(optimizer=\"adam\",\n",
    "                  loss = \"categorical_crossentropy\",\n",
    "                  metrics=[\"accuracy\"])\n",
    "    return model"
   ]
  },
  {
   "cell_type": "code",
   "execution_count": 54,
   "id": "a5f84245-7ff3-46bf-ba6f-769fc37dd126",
   "metadata": {},
   "outputs": [],
   "source": [
    "import keras_tuner"
   ]
  },
  {
   "cell_type": "code",
   "execution_count": 55,
   "id": "97b19552-be47-4d8c-a918-abca6c6ef6a1",
   "metadata": {},
   "outputs": [
    {
     "name": "stdout",
     "output_type": "stream",
     "text": [
      "Reloading Tuner from ./untitled_project/tuner0.json\n"
     ]
    }
   ],
   "source": [
    "tuner = RandomSearch(\n",
    "    build_model,\n",
    "    objective=keras_tuner.Objective('val_accuracy', direction='max'),\n",
    "    max_trials = 5,\n",
    "    executions_per_trial = 2,\n",
    "    directory = \"\",\n",
    "    project_name = \"\")"
   ]
  },
  {
   "cell_type": "code",
   "execution_count": 56,
   "id": "c7facea3-05bd-44ea-9286-277eb253b32a",
   "metadata": {},
   "outputs": [],
   "source": [
    "tuner.search(X_train, y_train, epochs=5, validation_data = (X_test, y_test))"
   ]
  },
  {
   "cell_type": "code",
   "execution_count": 57,
   "id": "e653d90f-de1f-42bf-ab0b-795cbda670e1",
   "metadata": {},
   "outputs": [
    {
     "data": {
      "text/plain": [
       "(10000, 10)"
      ]
     },
     "execution_count": 57,
     "metadata": {},
     "output_type": "execute_result"
    }
   ],
   "source": [
    "y_test.shape"
   ]
  },
  {
   "cell_type": "code",
   "execution_count": 58,
   "id": "efa28eb5-d779-47e1-bf25-547a5c4271f8",
   "metadata": {},
   "outputs": [
    {
     "name": "stdout",
     "output_type": "stream",
     "text": [
      "Search space summary\n",
      "Default search space size: 5\n",
      "input_units (Int)\n",
      "{'default': None, 'conditions': [], 'min_value': 64, 'max_value': 216, 'step': 32, 'sampling': 'linear'}\n",
      "input_units1 (Int)\n",
      "{'default': None, 'conditions': [], 'min_value': 64, 'max_value': 216, 'step': 32, 'sampling': 'linear'}\n",
      "1l (Int)\n",
      "{'default': None, 'conditions': [], 'min_value': 128, 'max_value': 512, 'step': 32, 'sampling': 'linear'}\n",
      "12 (Int)\n",
      "{'default': None, 'conditions': [], 'min_value': 128, 'max_value': 512, 'step': 32, 'sampling': 'linear'}\n",
      "learning_rate (Choice)\n",
      "{'default': 0.001, 'conditions': [], 'values': [0.001, 0.0001], 'ordered': True}\n"
     ]
    }
   ],
   "source": [
    "tuner.search_space_summary()"
   ]
  },
  {
   "cell_type": "code",
   "execution_count": 59,
   "id": "9873b5c4-f179-4830-b015-0cf0ce6c9eac",
   "metadata": {},
   "outputs": [],
   "source": [
    "final_model = tuner.get_best_models(num_models=1)"
   ]
  },
  {
   "cell_type": "code",
   "execution_count": 60,
   "id": "165d3ab8-6719-437f-95f6-2f097fc81d33",
   "metadata": {},
   "outputs": [],
   "source": [
    "best_model = final_model[0]"
   ]
  },
  {
   "cell_type": "code",
   "execution_count": 61,
   "id": "6c925faa-ca22-43c7-b9d9-98b18b2e95bf",
   "metadata": {},
   "outputs": [
    {
     "name": "stdout",
     "output_type": "stream",
     "text": [
      "Model: \"sequential\"\n",
      "_________________________________________________________________\n",
      " Layer (type)                Output Shape              Param #   \n",
      "=================================================================\n",
      " conv2d (Conv2D)             (None, 26, 26, 192)       1920      \n",
      "                                                                 \n",
      " activation (Activation)     (None, 26, 26, 192)       0         \n",
      "                                                                 \n",
      " max_pooling2d (MaxPooling2  (None, 13, 13, 192)       0         \n",
      " D)                                                              \n",
      "                                                                 \n",
      " flatten (Flatten)           (None, 32448)             0         \n",
      "                                                                 \n",
      " dense (Dense)               (None, 160)               5191840   \n",
      "                                                                 \n",
      " dense_1 (Dense)             (None, 160)               25760     \n",
      "                                                                 \n",
      " dense_2 (Dense)             (None, 10)                1610      \n",
      "                                                                 \n",
      "=================================================================\n",
      "Total params: 5221130 (19.92 MB)\n",
      "Trainable params: 5221130 (19.92 MB)\n",
      "Non-trainable params: 0 (0.00 Byte)\n",
      "_________________________________________________________________\n"
     ]
    }
   ],
   "source": [
    "best_model.summary()"
   ]
  },
  {
   "cell_type": "code",
   "execution_count": 153,
   "id": "cd24b8a4-35cd-43cc-8bc7-ae115489ad6d",
   "metadata": {},
   "outputs": [
    {
     "name": "stdout",
     "output_type": "stream",
     "text": [
      "Test loss: 0.442338228225708\n",
      "Test accuracy: 0.8366000056266785\n"
     ]
    }
   ],
   "source": [
    "score2 = best_model.evaluate(X_test, y_test, verbose=0)\n",
    "print(\"Test loss:\", score[0])\n",
    "print(\"Test accuracy:\", score[1])"
   ]
  },
  {
   "cell_type": "code",
   "execution_count": null,
   "id": "1f072aa5-bd85-4938-94d1-f9f887695efe",
   "metadata": {},
   "outputs": [],
   "source": []
  }
 ],
 "metadata": {
  "kernelspec": {
   "display_name": "Python 3 (ipykernel)",
   "language": "python",
   "name": "python3"
  },
  "language_info": {
   "codemirror_mode": {
    "name": "ipython",
    "version": 3
   },
   "file_extension": ".py",
   "mimetype": "text/x-python",
   "name": "python",
   "nbconvert_exporter": "python",
   "pygments_lexer": "ipython3",
   "version": "3.8.19"
  }
 },
 "nbformat": 4,
 "nbformat_minor": 5
}
