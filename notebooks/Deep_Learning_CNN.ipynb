{
  "cells": [
    {
      "cell_type": "markdown",
      "id": "877501eb-6cdd-419f-b6f9-74e792da69df",
      "metadata": {
        "id": "877501eb-6cdd-419f-b6f9-74e792da69df"
      },
      "source": [
        "# Convolutional Neural Networks\n",
        "---\n",
        "In this notebook, we will explore how to use a **Convolutional Neural Network (CNN)** to classify images from the **CIFAR-10 dataset**.\n",
        "\n",
        "The CIFAR-10 dataset consists of **60,000 32x32 color images**, divided into **10 classes** such as airplanes, cars, birds, cats, and more. CNNs are particularly effective for this task as they are designed to process grid-like data, such as images, and can efficiently capture spatial hierarchies in the data.\n",
        "\n",
        "We will:\n",
        "1. Build a CNN architecture tailored for CIFAR-10.\n",
        "2. Train the network to classify images into their respective categories.\n",
        "3. Evaluate the model’s performance to assess its accuracy.\n",
        "4. Use a tuner for hyperparameter optimization\n",
        "\n"
      ]
    },
    {
      "cell_type": "markdown",
      "id": "cbc5a83c-a672-459f-b872-a26d68d56ce4",
      "metadata": {
        "id": "cbc5a83c-a672-459f-b872-a26d68d56ce4"
      },
      "source": [
        "## 1. Python packages"
      ]
    },
    {
      "cell_type": "code",
      "execution_count": null,
      "id": "6298ad52-425d-4412-95f9-2af5791d49b1",
      "metadata": {
        "id": "6298ad52-425d-4412-95f9-2af5791d49b1"
      },
      "outputs": [],
      "source": [
        "import tensorflow as tf\n",
        "from matplotlib import pyplot as plt\n",
        "import numpy as np"
      ]
    },
    {
      "cell_type": "markdown",
      "id": "95676903-42b0-4e0c-b0bb-ed1b0594a3c6",
      "metadata": {
        "id": "95676903-42b0-4e0c-b0bb-ed1b0594a3c6"
      },
      "source": [
        "## 2. Getting dataset"
      ]
    },
    {
      "cell_type": "code",
      "execution_count": null,
      "id": "459461dc-d040-4548-81fc-f1fe4b4aecce",
      "metadata": {
        "id": "459461dc-d040-4548-81fc-f1fe4b4aecce"
      },
      "outputs": [],
      "source": [
        "(X_train, y_train), (X_test, y_test) = tf.keras.datasets.cifar10.load_data()"
      ]
    },
    {
      "cell_type": "code",
      "execution_count": null,
      "id": "741c9f4c-0a79-4a65-a57d-442fed6f7626",
      "metadata": {
        "id": "741c9f4c-0a79-4a65-a57d-442fed6f7626"
      },
      "outputs": [],
      "source": [
        "(X_train, y_train), (X_test, y_test) = tf.keras.datasets.fashion_mnist.load_data()"
      ]
    },
    {
      "cell_type": "code",
      "execution_count": null,
      "id": "44d325fa-f859-444d-acc4-28b9cee92af9",
      "metadata": {
        "id": "44d325fa-f859-444d-acc4-28b9cee92af9"
      },
      "outputs": [],
      "source": [
        "plt.figure(figsize=(1,1))\n",
        "plt.imshow(X_train[100])\n",
        "plt.show()"
      ]
    },
    {
      "cell_type": "markdown",
      "id": "82c8b92e-3a51-416b-a6fd-9e8e4e3f2575",
      "metadata": {
        "id": "82c8b92e-3a51-416b-a6fd-9e8e4e3f2575"
      },
      "source": [
        "## 3. Data preprocessing"
      ]
    },
    {
      "cell_type": "code",
      "execution_count": null,
      "id": "b08ed0a9-961a-493c-8fd9-3ff2c8e98d22",
      "metadata": {
        "id": "b08ed0a9-961a-493c-8fd9-3ff2c8e98d22"
      },
      "outputs": [],
      "source": [
        "num_classes = 10\n",
        "# convert class vectors to binary class matrices\n",
        "y_train = tf.keras.utils.to_categorical(y_train, num_classes)\n",
        "y_test = tf.keras.utils.to_categorical(y_test, num_classes)"
      ]
    },
    {
      "cell_type": "code",
      "execution_count": null,
      "id": "a36db7d2-3f28-4990-8b6b-624b777f648a",
      "metadata": {
        "id": "a36db7d2-3f28-4990-8b6b-624b777f648a"
      },
      "outputs": [],
      "source": [
        "X_train.shape"
      ]
    },
    {
      "cell_type": "code",
      "execution_count": null,
      "id": "26f21f81-8fe4-4358-8922-e32e58b28471",
      "metadata": {
        "id": "26f21f81-8fe4-4358-8922-e32e58b28471"
      },
      "outputs": [],
      "source": [
        "y_train.shape"
      ]
    },
    {
      "cell_type": "code",
      "execution_count": null,
      "id": "5e4d881e-c895-499a-ac00-9bcbf4dd0017",
      "metadata": {
        "id": "5e4d881e-c895-499a-ac00-9bcbf4dd0017"
      },
      "outputs": [],
      "source": [
        "X_train = np.expand_dims(X_train, -1)\n",
        "X_test = np.expand_dims(X_test, -1)\n",
        "\n",
        "input_shape = X_train.shape[1:]\n",
        "X_train = X_train/255\n",
        "X_test = X_test/255\n"
      ]
    },
    {
      "cell_type": "code",
      "execution_count": null,
      "id": "b7557e09-8258-4eac-8e14-98313444df20",
      "metadata": {
        "id": "b7557e09-8258-4eac-8e14-98313444df20"
      },
      "outputs": [],
      "source": [
        "X_train.shape"
      ]
    },
    {
      "cell_type": "markdown",
      "id": "c7dae935-50a9-4548-bacd-66e811fd2681",
      "metadata": {
        "id": "c7dae935-50a9-4548-bacd-66e811fd2681"
      },
      "source": [
        "## 4. Building the CNN"
      ]
    },
    {
      "cell_type": "code",
      "execution_count": null,
      "id": "4acdea21-dc8b-4649-b75b-1d2bf82a2e06",
      "metadata": {
        "id": "4acdea21-dc8b-4649-b75b-1d2bf82a2e06"
      },
      "outputs": [],
      "source": [
        "model = tf.keras.Sequential(\n",
        "    [\n",
        "        tf.keras.Input(shape=input_shape),\n",
        "        tf.keras.layers.Conv2D(32, kernel_size=(3, 3), activation=\"relu\",\n",
        "                      kernel_initializer=tf.keras.initializers.random_normal),\n",
        "        tf.keras.layers.MaxPooling2D(pool_size=(2, 2), strides=2),\n",
        "\n",
        "        tf.keras.layers.Conv2D(64, kernel_size=(3, 3), activation=\"relu\"),\n",
        "        tf.keras.layers.MaxPooling2D(pool_size=(2, 2)),\n",
        "\n",
        "        tf.keras.layers.Flatten(),\n",
        "        tf.keras.layers.Dense(num_classes, activation=\"softmax\"),\n",
        "    ]\n",
        ")\n"
      ]
    },
    {
      "cell_type": "code",
      "execution_count": null,
      "id": "d8e71357-5fdd-44df-b0c1-fe2d774e4bba",
      "metadata": {
        "id": "d8e71357-5fdd-44df-b0c1-fe2d774e4bba"
      },
      "outputs": [],
      "source": [
        "model.summary()"
      ]
    },
    {
      "cell_type": "code",
      "execution_count": null,
      "id": "e96677b4-3888-4bc1-8333-4112afcf9424",
      "metadata": {
        "scrolled": true,
        "id": "e96677b4-3888-4bc1-8333-4112afcf9424"
      },
      "outputs": [],
      "source": [
        "batch_size = 128\n",
        "epochs = 25\n",
        "\n",
        "model.compile(loss=\"categorical_crossentropy\", optimizer=tf.keras.optimizers.SGD(), metrics=[\"accuracy\"])\n",
        "\n",
        "model.fit(X_train, y_train, batch_size=batch_size, epochs=epochs, validation_split=0.1)"
      ]
    },
    {
      "cell_type": "markdown",
      "id": "bccd02b4-8a06-456d-93e9-c2934380bd47",
      "metadata": {
        "id": "bccd02b4-8a06-456d-93e9-c2934380bd47"
      },
      "source": [
        "## 5. Evaluating the CNN's performance"
      ]
    },
    {
      "cell_type": "code",
      "execution_count": null,
      "id": "a80191e2-9193-4cd8-895e-23c20f733870",
      "metadata": {
        "id": "a80191e2-9193-4cd8-895e-23c20f733870"
      },
      "outputs": [],
      "source": [
        "score = model.evaluate(X_test, y_test, verbose=0)\n",
        "print(\"Test loss:\", score[0])\n",
        "print(\"Test accuracy:\", score[1])"
      ]
    },
    {
      "cell_type": "code",
      "execution_count": null,
      "id": "d233c29d-f463-4a7d-b762-5dd7c8352400",
      "metadata": {
        "id": "d233c29d-f463-4a7d-b762-5dd7c8352400"
      },
      "outputs": [],
      "source": [
        "prediction = model.predict(X_test)\n",
        "print(\"La predicción para cada imagen es un vector con 10 componentes\")\n",
        "print(prediction[0])"
      ]
    },
    {
      "cell_type": "code",
      "execution_count": null,
      "id": "b880ba4e-028d-4940-8af5-947a5854845c",
      "metadata": {
        "id": "b880ba4e-028d-4940-8af5-947a5854845c"
      },
      "outputs": [],
      "source": [
        "labels = {0: \"T-shirt/top\", 1: \"trouser\", 2: \"Pullover\", 3: \"Dress\", 4: \"Coat\", 5: \"Sandal\", 6: \"Shirt\",\n",
        "         7: \"Sneaker\", 8:\"Bag\", 9: \"Ankle boot\"}"
      ]
    },
    {
      "cell_type": "code",
      "execution_count": null,
      "id": "7dfbb753-946a-432d-9572-d5980024e2c0",
      "metadata": {
        "id": "7dfbb753-946a-432d-9572-d5980024e2c0"
      },
      "outputs": [],
      "source": [
        "from sklearn.metrics import classification_report\n",
        "d = classification_report(y_test.argmax(axis=1), prediction.argmax(axis=1),  target_names=labels.values())\n",
        "\n",
        "print(d)"
      ]
    },
    {
      "cell_type": "code",
      "execution_count": null,
      "id": "7c3049e3-06c7-4b72-ac07-a0da04fdb46e",
      "metadata": {
        "id": "7c3049e3-06c7-4b72-ac07-a0da04fdb46e"
      },
      "outputs": [],
      "source": [
        "for i in range(1, 7):\n",
        "    index_max = np.argmax(prediction[i-1,:])\n",
        "    print(\"image \", i, \"predicts \", labels[index_max])\n",
        "    plt.subplot(2, 3, i)\n",
        "    plt.imshow(X_test[i-1,:,:,0], cmap=\"gray\")"
      ]
    },
    {
      "cell_type": "markdown",
      "id": "b5f58c6c-4ad3-4cac-81b4-1e53b9160651",
      "metadata": {
        "id": "b5f58c6c-4ad3-4cac-81b4-1e53b9160651"
      },
      "source": [
        "## 6. Using keras_turner for hyperparameter optimization"
      ]
    },
    {
      "cell_type": "code",
      "execution_count": null,
      "id": "22ca7a88-341f-4d85-b68a-f474f4368513",
      "metadata": {
        "id": "22ca7a88-341f-4d85-b68a-f474f4368513"
      },
      "outputs": [],
      "source": [
        "from keras_tuner.tuners import RandomSearch"
      ]
    },
    {
      "cell_type": "code",
      "execution_count": null,
      "id": "640bc180-0ac4-4116-81f9-336a014288fb",
      "metadata": {
        "id": "640bc180-0ac4-4116-81f9-336a014288fb"
      },
      "outputs": [],
      "source": [
        "def build_model(hp):\n",
        "    model = tf.keras.Sequential()\n",
        "    model.add(tf.keras.layers.Conv2D(hp.Int('input_units',\n",
        "                                           min_value=64,\n",
        "                                           max_value=216,\n",
        "                                           step=32),\n",
        "                                    (3,3),\n",
        "                                     input_shape=input_shape))\n",
        "\n",
        "\n",
        "    model.add(tf.keras.layers.Activation('relu'))\n",
        "    model.add(tf.keras.layers.MaxPooling2D(pool_size= (2, 2)))\n",
        "    model.add(tf.keras.layers.Flatten())\n",
        "    hp_dense= hp.Int('1l', min_value = 128, max_value = 512, step = 32)\n",
        "    model.add(tf.keras.layers.Dense(units = hp_dense, activation='relu'))\n",
        "    hp_dense2 = hp.Int ('12', min_value = 128, max_value = 512, step = 32)\n",
        "    model.add(tf.keras.layers.Dense(units = hp_dense, activation='relu'))\n",
        "\n",
        "    hp_lr = hp.Choice('learning_rate', values= [0.001, 0.0001])\n",
        "\n",
        "    model.add(tf.keras.layers.Dense(10, activation='softmax'))\n",
        "\n",
        "    model.compile(optimizer=\"adam\",\n",
        "                  loss = \"categorical_crossentropy\",\n",
        "                  metrics=[\"accuracy\"])\n",
        "    return model"
      ]
    },
    {
      "cell_type": "code",
      "execution_count": null,
      "id": "a5f84245-7ff3-46bf-ba6f-769fc37dd126",
      "metadata": {
        "id": "a5f84245-7ff3-46bf-ba6f-769fc37dd126"
      },
      "outputs": [],
      "source": [
        "import keras_tuner"
      ]
    },
    {
      "cell_type": "code",
      "execution_count": null,
      "id": "97b19552-be47-4d8c-a918-abca6c6ef6a1",
      "metadata": {
        "id": "97b19552-be47-4d8c-a918-abca6c6ef6a1"
      },
      "outputs": [],
      "source": [
        "tuner = RandomSearch(\n",
        "    build_model,\n",
        "    objective=keras_tuner.Objective('val_accuracy', direction='max'),\n",
        "    max_trials = 5,\n",
        "    executions_per_trial = 2,\n",
        "    directory = \"\",\n",
        "    project_name = \"\")"
      ]
    },
    {
      "cell_type": "code",
      "execution_count": null,
      "id": "c7facea3-05bd-44ea-9286-277eb253b32a",
      "metadata": {
        "id": "c7facea3-05bd-44ea-9286-277eb253b32a"
      },
      "outputs": [],
      "source": [
        "tuner.search(X_train, y_train, epochs=5, validation_data = (X_test, y_test))"
      ]
    },
    {
      "cell_type": "code",
      "execution_count": null,
      "id": "e653d90f-de1f-42bf-ab0b-795cbda670e1",
      "metadata": {
        "id": "e653d90f-de1f-42bf-ab0b-795cbda670e1"
      },
      "outputs": [],
      "source": [
        "y_test.shape"
      ]
    },
    {
      "cell_type": "code",
      "execution_count": null,
      "id": "efa28eb5-d779-47e1-bf25-547a5c4271f8",
      "metadata": {
        "id": "efa28eb5-d779-47e1-bf25-547a5c4271f8"
      },
      "outputs": [],
      "source": [
        "tuner.search_space_summary()"
      ]
    },
    {
      "cell_type": "code",
      "execution_count": null,
      "id": "9873b5c4-f179-4830-b015-0cf0ce6c9eac",
      "metadata": {
        "id": "9873b5c4-f179-4830-b015-0cf0ce6c9eac"
      },
      "outputs": [],
      "source": [
        "final_model = tuner.get_best_models(num_models=1)"
      ]
    },
    {
      "cell_type": "code",
      "execution_count": null,
      "id": "165d3ab8-6719-437f-95f6-2f097fc81d33",
      "metadata": {
        "id": "165d3ab8-6719-437f-95f6-2f097fc81d33"
      },
      "outputs": [],
      "source": [
        "best_model = final_model[0]"
      ]
    },
    {
      "cell_type": "code",
      "execution_count": null,
      "id": "6c925faa-ca22-43c7-b9d9-98b18b2e95bf",
      "metadata": {
        "id": "6c925faa-ca22-43c7-b9d9-98b18b2e95bf"
      },
      "outputs": [],
      "source": [
        "best_model.summary()"
      ]
    },
    {
      "cell_type": "code",
      "execution_count": null,
      "id": "cd24b8a4-35cd-43cc-8bc7-ae115489ad6d",
      "metadata": {
        "id": "cd24b8a4-35cd-43cc-8bc7-ae115489ad6d"
      },
      "outputs": [],
      "source": [
        "score2 = best_model.evaluate(X_test, y_test, verbose=0)\n",
        "print(\"Test loss:\", score[0])\n",
        "print(\"Test accuracy:\", score[1])"
      ]
    },
    {
      "cell_type": "code",
      "execution_count": null,
      "id": "1f072aa5-bd85-4938-94d1-f9f887695efe",
      "metadata": {
        "id": "1f072aa5-bd85-4938-94d1-f9f887695efe"
      },
      "outputs": [],
      "source": []
    }
  ],
  "metadata": {
    "kernelspec": {
      "display_name": "Python 3 (ipykernel)",
      "language": "python",
      "name": "python3"
    },
    "language_info": {
      "codemirror_mode": {
        "name": "ipython",
        "version": 3
      },
      "file_extension": ".py",
      "mimetype": "text/x-python",
      "name": "python",
      "nbconvert_exporter": "python",
      "pygments_lexer": "ipython3",
      "version": "3.8.19"
    },
    "colab": {
      "provenance": []
    }
  },
  "nbformat": 4,
  "nbformat_minor": 5
}